{
 "cells": [
  {
   "cell_type": "code",
   "execution_count": 43,
   "metadata": {},
   "outputs": [],
   "source": [
    "import argparse\n",
    "from utils import prepare_save_dir\n",
    "# from STELLAR import STELLAR\n",
    "import numpy as np\n",
    "import torch\n",
    "import pandas as pd\n",
    "# import anndata\n",
    "# import scanpy as sc\n",
    "import pickle\n",
    "import sys\n",
    "sys.path.append(\"../\")\n",
    "# from datasets import GraphDataset\n",
    "from sklearn.metrics import f1_score, accuracy_score"
   ]
  },
  {
   "cell_type": "code",
   "execution_count": 44,
   "metadata": {},
   "outputs": [
    {
     "data": {
      "text/plain": [
       "_StoreAction(option_strings=['--use-processed-graph'], dest='use_processed_graph', nargs=None, const=None, default=False, type=<class 'bool'>, choices=None, required=False, help=None, metavar=None)"
      ]
     },
     "execution_count": 44,
     "metadata": {},
     "output_type": "execute_result"
    }
   ],
   "source": [
    "parser = argparse.ArgumentParser(description='STELLAR')\n",
    "parser.add_argument('--dataset', default='TonsilBE', help='dataset setting')\n",
    "parser.add_argument('--seed', type=int, default=1, metavar='S', help='random seed (default: 1)')\n",
    "parser.add_argument('--name', type=str, default='STELLAR')\n",
    "parser.add_argument('--epochs', type=int, default=50)\n",
    "parser.add_argument('--lr', type=float, default=1e-3) # learning rate\n",
    "parser.add_argument('--wd', type=float, default=5e-2) # weight decay\n",
    "parser.add_argument('--num-heads', type=int, default=13)\n",
    "parser.add_argument('--num-seed-class', type=int, default=3)\n",
    "parser.add_argument('--sample-rate', type=float, default=0.5) # downsample dataset by using 50% of cells\n",
    "parser.add_argument('-b', '--batch-size', default=1, type=int,\n",
    "                metavar='N', help='mini-batch size')\n",
    "parser.add_argument('--distance_thres', default=50, type=int)# distance threshold for constructing the graph\n",
    "parser.add_argument('--savedir', type=str, default='./') # output directory\n",
    "\n",
    "parser.add_argument('--use-processed-graph', type=bool, default=False) # whether to use already preprocessed graph or construct the graph "
   ]
  },
  {
   "cell_type": "code",
   "execution_count": 45,
   "metadata": {},
   "outputs": [],
   "source": [
    "args = parser.parse_args(args=[])\n",
    "args.cuda = torch.cuda.is_available()\n",
    "args.device = torch.device(\"cuda\" if args.cuda else \"cpu\")"
   ]
  },
  {
   "attachments": {},
   "cell_type": "markdown",
   "metadata": {},
   "source": [
    "# Define User Params"
   ]
  },
  {
   "cell_type": "code",
   "execution_count": 209,
   "metadata": {},
   "outputs": [],
   "source": [
    "dataset_path = './data/TonsilBE/BE_Tonsil_l3_dryad.csv'\n",
    "raw_pred_path = './experiments/run/TonsilBE_STELLAR/TonsilBE_results__TonsilBE_epoch320_batch32_dist30_gat.npy'\n"
   ]
  },
  {
   "cell_type": "code",
   "execution_count": 210,
   "metadata": {},
   "outputs": [
    {
     "data": {
      "text/plain": [
       "Index(['Unnamed: 0', 'CHGA', 'PDL1', 'CD56', 'CK7', 'FoxP3', 'CD21', 'MUC1',\n",
       "       'PD1', 'CD11b', 'CD4', 'CD31', 'CD25', 'CD15', 'CD20', 'Annexin A1',\n",
       "       'aSMA', 'CD11c', 'Nestin', 'IDO', 'Cytokeratin', 'MUC5AC', 'Vimentin',\n",
       "       'CD36', 'HLADR', 'BCL2', 'p63', 'CD3', 'CD45', 'CD8', 'CD57',\n",
       "       'aDefensin5', 'CD68', 'CD34', 'CD38', 'Podoplanin', 'CD163', 'Bcatenin',\n",
       "       'CD138', 'Arginase1', 'CD73', 'CD206', 'MUC6', 'COX2', 'MMP9', 'x', 'y',\n",
       "       'sample_name', 'cell_type'],\n",
       "      dtype='object')"
      ]
     },
     "execution_count": 210,
     "metadata": {},
     "output_type": "execute_result"
    }
   ],
   "source": [
    "df = pd.read_csv(dataset_path)\n",
    "df.columns"
   ]
  },
  {
   "cell_type": "code",
   "execution_count": 211,
   "metadata": {},
   "outputs": [
    {
     "data": {
      "text/html": [
       "<div>\n",
       "<style scoped>\n",
       "    .dataframe tbody tr th:only-of-type {\n",
       "        vertical-align: middle;\n",
       "    }\n",
       "\n",
       "    .dataframe tbody tr th {\n",
       "        vertical-align: top;\n",
       "    }\n",
       "\n",
       "    .dataframe thead th {\n",
       "        text-align: right;\n",
       "    }\n",
       "</style>\n",
       "<table border=\"1\" class=\"dataframe\">\n",
       "  <thead>\n",
       "    <tr style=\"text-align: right;\">\n",
       "      <th></th>\n",
       "      <th>Unnamed: 0</th>\n",
       "      <th>CHGA</th>\n",
       "      <th>PDL1</th>\n",
       "      <th>CD56</th>\n",
       "      <th>CK7</th>\n",
       "      <th>FoxP3</th>\n",
       "      <th>CD21</th>\n",
       "      <th>MUC1</th>\n",
       "      <th>PD1</th>\n",
       "      <th>CD11b</th>\n",
       "      <th>...</th>\n",
       "      <th>Arginase1</th>\n",
       "      <th>CD73</th>\n",
       "      <th>CD206</th>\n",
       "      <th>MUC6</th>\n",
       "      <th>COX2</th>\n",
       "      <th>MMP9</th>\n",
       "      <th>x</th>\n",
       "      <th>y</th>\n",
       "      <th>sample_name</th>\n",
       "      <th>cell_type</th>\n",
       "    </tr>\n",
       "  </thead>\n",
       "  <tbody>\n",
       "    <tr>\n",
       "      <th>0</th>\n",
       "      <td>30</td>\n",
       "      <td>-0.015838</td>\n",
       "      <td>-0.262392</td>\n",
       "      <td>-0.328807</td>\n",
       "      <td>-0.030104</td>\n",
       "      <td>-0.169786</td>\n",
       "      <td>-0.195315</td>\n",
       "      <td>-0.14445</td>\n",
       "      <td>-0.314147</td>\n",
       "      <td>-0.306023</td>\n",
       "      <td>...</td>\n",
       "      <td>0.183429</td>\n",
       "      <td>-0.471492</td>\n",
       "      <td>0.368175</td>\n",
       "      <td>-0.137850</td>\n",
       "      <td>0.148542</td>\n",
       "      <td>-0.161118</td>\n",
       "      <td>394.0</td>\n",
       "      <td>3516.0</td>\n",
       "      <td>tonsil</td>\n",
       "      <td>Innate</td>\n",
       "    </tr>\n",
       "    <tr>\n",
       "      <th>1</th>\n",
       "      <td>36</td>\n",
       "      <td>-0.063117</td>\n",
       "      <td>-0.075990</td>\n",
       "      <td>1.852914</td>\n",
       "      <td>-0.030104</td>\n",
       "      <td>-0.169786</td>\n",
       "      <td>2.408519</td>\n",
       "      <td>-0.14445</td>\n",
       "      <td>1.413897</td>\n",
       "      <td>1.150271</td>\n",
       "      <td>...</td>\n",
       "      <td>3.152803</td>\n",
       "      <td>-0.460310</td>\n",
       "      <td>0.406059</td>\n",
       "      <td>0.247144</td>\n",
       "      <td>0.549028</td>\n",
       "      <td>-0.114117</td>\n",
       "      <td>5469.0</td>\n",
       "      <td>2463.0</td>\n",
       "      <td>tonsil</td>\n",
       "      <td>Innate</td>\n",
       "    </tr>\n",
       "  </tbody>\n",
       "</table>\n",
       "<p>2 rows × 49 columns</p>\n",
       "</div>"
      ],
      "text/plain": [
       "   Unnamed: 0      CHGA      PDL1      CD56       CK7     FoxP3      CD21   \n",
       "0          30 -0.015838 -0.262392 -0.328807 -0.030104 -0.169786 -0.195315  \\\n",
       "1          36 -0.063117 -0.075990  1.852914 -0.030104 -0.169786  2.408519   \n",
       "\n",
       "      MUC1       PD1     CD11b  ...  Arginase1      CD73     CD206      MUC6   \n",
       "0 -0.14445 -0.314147 -0.306023  ...   0.183429 -0.471492  0.368175 -0.137850  \\\n",
       "1 -0.14445  1.413897  1.150271  ...   3.152803 -0.460310  0.406059  0.247144   \n",
       "\n",
       "       COX2      MMP9       x       y  sample_name  cell_type  \n",
       "0  0.148542 -0.161118   394.0  3516.0       tonsil     Innate  \n",
       "1  0.549028 -0.114117  5469.0  2463.0       tonsil     Innate  \n",
       "\n",
       "[2 rows x 49 columns]"
      ]
     },
     "execution_count": 211,
     "metadata": {},
     "output_type": "execute_result"
    }
   ],
   "source": [
    "df.head(2)"
   ]
  },
  {
   "cell_type": "code",
   "execution_count": 214,
   "metadata": {},
   "outputs": [
    {
     "name": "stdout",
     "output_type": "stream",
     "text": [
      "tonsil\n"
     ]
    }
   ],
   "source": [
    "\n",
    "if \"infected\" in dataset_path.lower():\n",
    "    print(\"infected\")\n",
    "    train_df = df.loc[df['region'] == 'healthy']\n",
    "    test_df = df.loc[df['region'] == \"infected\"]\n",
    "\n",
    "    train_y = train_df['cluster'].str.lower()\n",
    "    test_y = test_df['cluster'].str.lower()\n",
    "elif \"cross\" in dataset_path.lower():\n",
    "    print(\"Cross\")\n",
    "    train_df = df.loc[df['region'] == 1]\n",
    "    test_df = df.loc[df['region'] == 2]\n",
    "    \n",
    "    train_y = train_df['cluster'].str.lower()\n",
    "    test_y = test_df['cluster'].str.lower()    \n",
    "elif \"tonsil\" in dataset_path.lower():\n",
    "    print(\"tonsil\")\n",
    "    train_df = df.loc[df['sample_name'] == 'tonsil']\n",
    "    test_df = df.loc[df['sample_name'] == 'Barretts Esophagus']\n",
    "\n",
    "    train_y = train_df['cell_type'].str.lower()\n",
    "    test_y = test_df['cell_type'].str.lower()\n",
    "\n",
    "cell_types = np.sort(list(set(test_y))).tolist()\n",
    "cell_type_dict = {}\n",
    "for i, cell_type in enumerate(cell_types):\n",
    "    cell_type_dict[cell_type] = i"
   ]
  },
  {
   "cell_type": "code",
   "execution_count": 215,
   "metadata": {},
   "outputs": [
    {
     "data": {
      "text/plain": [
       "{'endothelial': 0,\n",
       " 'glandular_epi': 1,\n",
       " 'innate': 2,\n",
       " 'nerve': 3,\n",
       " 'paneth': 4,\n",
       " 'pdpn': 5,\n",
       " 'plasma': 6,\n",
       " 'secretory_epithelial': 7,\n",
       " 'smoothmuscle': 8,\n",
       " 'squamous_epithelial': 9,\n",
       " 'stroma': 10,\n",
       " 't': 11}"
      ]
     },
     "execution_count": 215,
     "metadata": {},
     "output_type": "execute_result"
    }
   ],
   "source": [
    "cell_type_dict"
   ]
  },
  {
   "attachments": {},
   "cell_type": "markdown",
   "metadata": {},
   "source": [
    "# Generate Class Label Mapping for Train and Test"
   ]
  },
  {
   "cell_type": "code",
   "execution_count": 216,
   "metadata": {},
   "outputs": [
    {
     "name": "stdout",
     "output_type": "stream",
     "text": [
      "tonsil\n"
     ]
    }
   ],
   "source": [
    "if \"infected\" in dataset_path.lower():\n",
    "    print(\"infected\")\n",
    "    train_df = df.loc[df['region'] == 'healthy']\n",
    "    test_df = df.loc[df['region'] == \"infected\"]\n",
    "\n",
    "    train_y = train_df['cluster'].str.lower()\n",
    "    test_y = test_df['cluster'].str.lower()\n",
    "elif \"cross\" in dataset_path.lower():\n",
    "    print(\"Cross\")\n",
    "    train_df = df.loc[df['region'] == 1]\n",
    "    test_df = df.loc[df['region'] == 2]\n",
    "    \n",
    "    train_y = train_df['cluster'].str.lower()\n",
    "    test_y = test_df['cluster'].str.lower()    \n",
    "elif \"tonsil\" in dataset_path.lower():\n",
    "    print(\"tonsil\")\n",
    "    train_df = df.loc[df['sample_name'] == 'tonsil']\n",
    "    test_df = df.loc[df['sample_name'] == 'Barretts Esophagus']\n",
    "\n",
    "    train_y = train_df['cell_type'].str.lower()\n",
    "    test_y = test_df['cell_type'].str.lower()\n",
    "    \n",
    "\n"
   ]
  },
  {
   "cell_type": "code",
   "execution_count": 217,
   "metadata": {},
   "outputs": [],
   "source": [
    "cell_types_train = np.sort(list(set(train_y))).tolist()\n",
    "class_train = [i for i in range(len(cell_types_train))]\n",
    "\n",
    "cell_type_dict_train = {}\n",
    "inverse_dict_train = {}\n",
    "\n",
    "cell_types_test = np.sort(list(set(test_y))).tolist()\n",
    "cell_type_dict_test = {}\n",
    "inverse_dict_test = {}\n",
    "\n",
    "for i, cell_type in enumerate(cell_types_train):\n",
    "    cell_type_dict_train[cell_type] = i\n",
    "    inverse_dict_train[i] = cell_type\n",
    "\n",
    "for i, cell_type in enumerate(cell_types_test):\n",
    "    cell_type_dict_test[cell_type] = i\n",
    "    inverse_dict_test[i] = cell_type"
   ]
  },
  {
   "cell_type": "code",
   "execution_count": 218,
   "metadata": {},
   "outputs": [
    {
     "data": {
      "text/plain": [
       "['b',\n",
       " 'endothelial',\n",
       " 'innate',\n",
       " 'nerve',\n",
       " 'pdpn',\n",
       " 'plasma',\n",
       " 'smoothmuscle',\n",
       " 'squamous_epithelial',\n",
       " 'stroma',\n",
       " 't']"
      ]
     },
     "execution_count": 218,
     "metadata": {},
     "output_type": "execute_result"
    }
   ],
   "source": [
    "cell_types_train"
   ]
  },
  {
   "cell_type": "code",
   "execution_count": 219,
   "metadata": {},
   "outputs": [
    {
     "data": {
      "text/plain": [
       "['endothelial',\n",
       " 'glandular_epi',\n",
       " 'innate',\n",
       " 'nerve',\n",
       " 'paneth',\n",
       " 'pdpn',\n",
       " 'plasma',\n",
       " 'secretory_epithelial',\n",
       " 'smoothmuscle',\n",
       " 'squamous_epithelial',\n",
       " 'stroma',\n",
       " 't']"
      ]
     },
     "execution_count": 219,
     "metadata": {},
     "output_type": "execute_result"
    }
   ],
   "source": [
    "list(cell_types_test)"
   ]
  },
  {
   "cell_type": "code",
   "execution_count": 220,
   "metadata": {},
   "outputs": [
    {
     "data": {
      "text/plain": [
       "{0: 'b',\n",
       " 1: 'endothelial',\n",
       " 2: 'innate',\n",
       " 3: 'nerve',\n",
       " 4: 'pdpn',\n",
       " 5: 'plasma',\n",
       " 6: 'smoothmuscle',\n",
       " 7: 'squamous_epithelial',\n",
       " 8: 'stroma',\n",
       " 9: 't'}"
      ]
     },
     "execution_count": 220,
     "metadata": {},
     "output_type": "execute_result"
    }
   ],
   "source": [
    "inverse_dict_train"
   ]
  },
  {
   "cell_type": "code",
   "execution_count": 221,
   "metadata": {},
   "outputs": [
    {
     "data": {
      "text/plain": [
       "{0: 'endothelial',\n",
       " 1: 'glandular_epi',\n",
       " 2: 'innate',\n",
       " 3: 'nerve',\n",
       " 4: 'paneth',\n",
       " 5: 'pdpn',\n",
       " 6: 'plasma',\n",
       " 7: 'secretory_epithelial',\n",
       " 8: 'smoothmuscle',\n",
       " 9: 'squamous_epithelial',\n",
       " 10: 'stroma',\n",
       " 11: 't'}"
      ]
     },
     "execution_count": 221,
     "metadata": {},
     "output_type": "execute_result"
    }
   ],
   "source": [
    "inverse_dict_test"
   ]
  },
  {
   "attachments": {},
   "cell_type": "markdown",
   "metadata": {},
   "source": [
    "# Read in the raw preds\n"
   ]
  },
  {
   "cell_type": "code",
   "execution_count": 222,
   "metadata": {},
   "outputs": [],
   "source": [
    "array_loaded = np.load(raw_pred_path)"
   ]
  },
  {
   "cell_type": "code",
   "execution_count": 223,
   "metadata": {},
   "outputs": [
    {
     "data": {
      "text/plain": [
       "['10', '11', '12']"
      ]
     },
     "execution_count": 223,
     "metadata": {},
     "output_type": "execute_result"
    }
   ],
   "source": [
    "pred_label = []\n",
    "test_not_train_pred_ids = set()\n",
    "for i, pred_class in enumerate(array_loaded):\n",
    "    if pred_class not in class_train:\n",
    "        pred_label.append(f'{pred_class}')\n",
    "        test_not_train_pred_ids.add(f'{pred_class}')\n",
    "        # pred_label.append('novel')\n",
    "    \n",
    "    else:\n",
    "        known_cell_type = inverse_dict_train[pred_class]        \n",
    "        pred_label.append(known_cell_type)\n",
    "\n",
    "test_not_train_pred_ids = list(test_not_train_pred_ids)\n",
    "test_not_train_pred_ids.sort()\n",
    "test_not_train_pred_ids\n",
    "# final = np.array([test_y,pred_label]).T\n",
    "# print(len(final))\n",
    "# final = np.delete(final,np.where(final == 'novel')[0],axis = 0)\n",
    "# final = np.delete(final,np.where(~((final == 'glandular_epi') | (final == 'secretory_epithelial') | (final == 'paneth')))[0],axis = 0)\n",
    "# row_idx, col_idx = np.where(~((final == 'glandular_epi') | (final == 'secretory_epithelial') | (final == 'paneth')))\n",
    "# print(len(final))\n"
   ]
  },
  {
   "cell_type": "code",
   "execution_count": 224,
   "metadata": {},
   "outputs": [
    {
     "data": {
      "text/plain": [
       "188388           glandular_epi\n",
       "180395    secretory_epithelial\n",
       "197779           glandular_epi\n",
       "182854           glandular_epi\n",
       "198149           glandular_epi\n",
       "Name: cell_type, dtype: object"
      ]
     },
     "execution_count": 224,
     "metadata": {},
     "output_type": "execute_result"
    }
   ],
   "source": [
    "test_y.sample(5)"
   ]
  },
  {
   "cell_type": "code",
   "execution_count": 225,
   "metadata": {},
   "outputs": [
    {
     "data": {
      "text/plain": [
       "['innate', 'endothelial', 'endothelial', 'endothelial', 'endothelial']"
      ]
     },
     "execution_count": 225,
     "metadata": {},
     "output_type": "execute_result"
    }
   ],
   "source": [
    "pred_label[:5]"
   ]
  },
  {
   "cell_type": "code",
   "execution_count": 226,
   "metadata": {},
   "outputs": [],
   "source": [
    "# create df of labels and prds\n",
    "results_df = pd.DataFrame({'label': test_y, 'pred': pred_label})\n",
    "results_df = results_df.reset_index(drop=True)"
   ]
  },
  {
   "cell_type": "code",
   "execution_count": 227,
   "metadata": {},
   "outputs": [
    {
     "data": {
      "text/html": [
       "<div>\n",
       "<style scoped>\n",
       "    .dataframe tbody tr th:only-of-type {\n",
       "        vertical-align: middle;\n",
       "    }\n",
       "\n",
       "    .dataframe tbody tr th {\n",
       "        vertical-align: top;\n",
       "    }\n",
       "\n",
       "    .dataframe thead th {\n",
       "        text-align: right;\n",
       "    }\n",
       "</style>\n",
       "<table border=\"1\" class=\"dataframe\">\n",
       "  <thead>\n",
       "    <tr style=\"text-align: right;\">\n",
       "      <th></th>\n",
       "      <th>label</th>\n",
       "      <th>pred</th>\n",
       "    </tr>\n",
       "  </thead>\n",
       "  <tbody>\n",
       "    <tr>\n",
       "      <th>0</th>\n",
       "      <td>innate</td>\n",
       "      <td>innate</td>\n",
       "    </tr>\n",
       "    <tr>\n",
       "      <th>1</th>\n",
       "      <td>endothelial</td>\n",
       "      <td>endothelial</td>\n",
       "    </tr>\n",
       "    <tr>\n",
       "      <th>2</th>\n",
       "      <td>endothelial</td>\n",
       "      <td>endothelial</td>\n",
       "    </tr>\n",
       "    <tr>\n",
       "      <th>3</th>\n",
       "      <td>endothelial</td>\n",
       "      <td>endothelial</td>\n",
       "    </tr>\n",
       "    <tr>\n",
       "      <th>4</th>\n",
       "      <td>endothelial</td>\n",
       "      <td>endothelial</td>\n",
       "    </tr>\n",
       "  </tbody>\n",
       "</table>\n",
       "</div>"
      ],
      "text/plain": [
       "         label         pred\n",
       "0       innate       innate\n",
       "1  endothelial  endothelial\n",
       "2  endothelial  endothelial\n",
       "3  endothelial  endothelial\n",
       "4  endothelial  endothelial"
      ]
     },
     "execution_count": 227,
     "metadata": {},
     "output_type": "execute_result"
    }
   ],
   "source": [
    "results_df.head()\n"
   ]
  },
  {
   "cell_type": "code",
   "execution_count": 228,
   "metadata": {},
   "outputs": [],
   "source": [
    "def preprocess_results_matrix(result_df, \n",
    "                              train_not_test_gt_labels,\n",
    "                              test_not_train_gt_labels,\n",
    "                              test_not_train_pred_ids):\n",
    "    # novel_cell_types = ['glandular_epi', 'secretory_epithelial', 'paneth']\n",
    "    # novel_cell_types = ['undefined']\n",
    "    # drop novel cell types from the results df\n",
    "        \n",
    "    train_not_test_cond = ~result_df['label'].isin(train_not_test_gt_labels)\n",
    "    test_not_train_cond1 = ~result_df['pred'].isin(test_not_train_gt_labels)\n",
    "    test_not_train_cond2 = ~result_df['pred'].isin(test_not_train_pred_ids)\n",
    "    \n",
    "    filter_cond = train_not_test_cond & test_not_train_cond1 & test_not_train_cond2\n",
    "    \n",
    "    result_df_known = result_df.loc[filter_cond]\n",
    "\n",
    "    return result_df_known\n",
    "\n"
   ]
  },
  {
   "cell_type": "code",
   "execution_count": 229,
   "metadata": {},
   "outputs": [],
   "source": [
    "# get the list of novel cell types\n",
    "cell_types_train = inverse_dict_train.values()\n",
    "cell_types_test = inverse_dict_test.values()\n",
    "\n",
    "train_not_test_gt_labels = set(cell_types_train) - set(cell_types_test) \n",
    "train_not_test_gt_labels = list(train_not_test_gt_labels)\n",
    "\n",
    "test_not_train_gt_labels = set(cell_types_test) - set(cell_types_train)\n",
    "test_not_train_gt_labels = list(test_not_train_gt_labels)\n"
   ]
  },
  {
   "cell_type": "code",
   "execution_count": 230,
   "metadata": {},
   "outputs": [
    {
     "data": {
      "text/plain": [
       "['b']"
      ]
     },
     "execution_count": 230,
     "metadata": {},
     "output_type": "execute_result"
    }
   ],
   "source": [
    "train_not_test_gt_labels"
   ]
  },
  {
   "cell_type": "code",
   "execution_count": 231,
   "metadata": {},
   "outputs": [
    {
     "data": {
      "text/plain": [
       "['glandular_epi', 'secretory_epithelial', 'paneth']"
      ]
     },
     "execution_count": 231,
     "metadata": {},
     "output_type": "execute_result"
    }
   ],
   "source": [
    "test_not_train_gt_labels"
   ]
  },
  {
   "cell_type": "code",
   "execution_count": 232,
   "metadata": {},
   "outputs": [],
   "source": [
    "results_df_known  = preprocess_results_matrix(results_df, \n",
    "                                              train_not_test_gt_labels,\n",
    "                                              test_not_train_gt_labels,\n",
    "                                              test_not_train_pred_ids\n",
    "                                              )"
   ]
  },
  {
   "cell_type": "code",
   "execution_count": 233,
   "metadata": {},
   "outputs": [
    {
     "data": {
      "text/plain": [
       "label\n",
       "smoothmuscle           9003\n",
       "endothelial            6074\n",
       "innate                 4245\n",
       "stroma                 4180\n",
       "nerve                  2037\n",
       "t                      1388\n",
       "plasma                 1157\n",
       "pdpn                    909\n",
       "squamous_epithelial     703\n",
       "glandular_epi            74\n",
       "paneth                    2\n",
       "Name: count, dtype: int64"
      ]
     },
     "execution_count": 233,
     "metadata": {},
     "output_type": "execute_result"
    }
   ],
   "source": [
    "results_df_known['label'].value_counts()"
   ]
  },
  {
   "cell_type": "code",
   "execution_count": 234,
   "metadata": {},
   "outputs": [
    {
     "data": {
      "text/plain": [
       "pred\n",
       "b                      10886\n",
       "endothelial             6900\n",
       "innate                  4124\n",
       "stroma                  3785\n",
       "t                       1374\n",
       "plasma                  1170\n",
       "pdpn                     767\n",
       "squamous_epithelial      649\n",
       "smoothmuscle             108\n",
       "nerve                      9\n",
       "Name: count, dtype: int64"
      ]
     },
     "execution_count": 234,
     "metadata": {},
     "output_type": "execute_result"
    }
   ],
   "source": [
    "results_df_known['pred'].value_counts()"
   ]
  },
  {
   "cell_type": "code",
   "execution_count": 235,
   "metadata": {},
   "outputs": [
    {
     "name": "stderr",
     "output_type": "stream",
     "text": [
      "/Users/sukritrao/miniforge3/envs/rl_project/lib/python3.10/site-packages/sklearn/metrics/_classification.py:1344: UndefinedMetricWarning: Precision and F-score are ill-defined and being set to 0.0 in labels with no predicted samples. Use `zero_division` parameter to control this behavior.\n",
      "  _warn_prf(average, modifier, msg_start, len(result))\n",
      "/Users/sukritrao/miniforge3/envs/rl_project/lib/python3.10/site-packages/sklearn/metrics/_classification.py:1344: UndefinedMetricWarning: Recall and F-score are ill-defined and being set to 0.0 in labels with no true samples. Use `zero_division` parameter to control this behavior.\n",
      "  _warn_prf(average, modifier, msg_start, len(result))\n",
      "/Users/sukritrao/miniforge3/envs/rl_project/lib/python3.10/site-packages/sklearn/metrics/_classification.py:1344: UndefinedMetricWarning: Precision and F-score are ill-defined and being set to 0.0 in labels with no predicted samples. Use `zero_division` parameter to control this behavior.\n",
      "  _warn_prf(average, modifier, msg_start, len(result))\n",
      "/Users/sukritrao/miniforge3/envs/rl_project/lib/python3.10/site-packages/sklearn/metrics/_classification.py:1344: UndefinedMetricWarning: Recall and F-score are ill-defined and being set to 0.0 in labels with no true samples. Use `zero_division` parameter to control this behavior.\n",
      "  _warn_prf(average, modifier, msg_start, len(result))\n"
     ]
    },
    {
     "name": "stdout",
     "output_type": "stream",
     "text": [
      "                     precision    recall  f1-score   support\n",
      "\n",
      "                  b       0.00      0.00      0.00         0\n",
      "        endothelial       0.85      0.97      0.90      6074\n",
      "      glandular_epi       0.00      0.00      0.00        74\n",
      "             innate       0.96      0.93      0.95      4245\n",
      "              nerve       1.00      0.00      0.01      2037\n",
      "             paneth       0.00      0.00      0.00         2\n",
      "               pdpn       0.93      0.78      0.85       909\n",
      "             plasma       0.95      0.96      0.95      1157\n",
      "       smoothmuscle       0.85      0.01      0.02      9003\n",
      "squamous_epithelial       0.95      0.88      0.91       703\n",
      "             stroma       0.90      0.82      0.86      4180\n",
      "                  t       0.96      0.95      0.96      1388\n",
      "\n",
      "           accuracy                           0.57     29772\n",
      "          macro avg       0.70      0.53      0.53     29772\n",
      "       weighted avg       0.90      0.57      0.58     29772\n",
      "\n"
     ]
    },
    {
     "name": "stderr",
     "output_type": "stream",
     "text": [
      "/Users/sukritrao/miniforge3/envs/rl_project/lib/python3.10/site-packages/sklearn/metrics/_classification.py:1344: UndefinedMetricWarning: Precision and F-score are ill-defined and being set to 0.0 in labels with no predicted samples. Use `zero_division` parameter to control this behavior.\n",
      "  _warn_prf(average, modifier, msg_start, len(result))\n",
      "/Users/sukritrao/miniforge3/envs/rl_project/lib/python3.10/site-packages/sklearn/metrics/_classification.py:1344: UndefinedMetricWarning: Recall and F-score are ill-defined and being set to 0.0 in labels with no true samples. Use `zero_division` parameter to control this behavior.\n",
      "  _warn_prf(average, modifier, msg_start, len(result))\n"
     ]
    }
   ],
   "source": [
    "from sklearn.metrics import precision_recall_fscore_support, classification_report\n",
    "# metrics = precision_recall_fscore_support(final[:,0],final[:,1],average = 'weighted')\n",
    "classification = classification_report(results_df_known['label'], results_df_known['pred'])\n",
    "print(classification)"
   ]
  },
  {
   "cell_type": "code",
   "execution_count": 236,
   "metadata": {},
   "outputs": [
    {
     "name": "stderr",
     "output_type": "stream",
     "text": [
      "/Users/sukritrao/miniforge3/envs/rl_project/lib/python3.10/site-packages/sklearn/metrics/_classification.py:1344: UndefinedMetricWarning: Precision and F-score are ill-defined and being set to 0.0 in labels with no predicted samples. Use `zero_division` parameter to control this behavior.\n",
      "  _warn_prf(average, modifier, msg_start, len(result))\n",
      "/Users/sukritrao/miniforge3/envs/rl_project/lib/python3.10/site-packages/sklearn/metrics/_classification.py:1344: UndefinedMetricWarning: Recall and F-score are ill-defined and being set to 0.0 in labels with no true samples. Use `zero_division` parameter to control this behavior.\n",
      "  _warn_prf(average, modifier, msg_start, len(result))\n",
      "/Users/sukritrao/miniforge3/envs/rl_project/lib/python3.10/site-packages/sklearn/metrics/_classification.py:1344: UndefinedMetricWarning: Precision and F-score are ill-defined and being set to 0.0 in labels with no predicted samples. Use `zero_division` parameter to control this behavior.\n",
      "  _warn_prf(average, modifier, msg_start, len(result))\n",
      "/Users/sukritrao/miniforge3/envs/rl_project/lib/python3.10/site-packages/sklearn/metrics/_classification.py:1344: UndefinedMetricWarning: Recall and F-score are ill-defined and being set to 0.0 in labels with no true samples. Use `zero_division` parameter to control this behavior.\n",
      "  _warn_prf(average, modifier, msg_start, len(result))\n"
     ]
    },
    {
     "name": "stdout",
     "output_type": "stream",
     "text": [
      "                      precision    recall  f1-score   support\n",
      "\n",
      "                  10       0.00      0.00      0.00         0\n",
      "                  11       0.00      0.00      0.00         0\n",
      "                  12       0.00      0.00      0.00         0\n",
      "                   b       0.00      0.00      0.00         0\n",
      "         endothelial       0.85      0.95      0.90      6181\n",
      "       glandular_epi       0.00      0.00      0.00     14690\n",
      "              innate       0.96      0.93      0.94      4282\n",
      "               nerve       1.00      0.00      0.01      2047\n",
      "              paneth       0.00      0.00      0.00       275\n",
      "                pdpn       0.93      0.78      0.85       914\n",
      "              plasma       0.95      0.94      0.95      1177\n",
      "secretory_epithelial       0.00      0.00      0.00       658\n",
      "        smoothmuscle       0.85      0.01      0.02      9023\n",
      " squamous_epithelial       0.95      0.57      0.71      1077\n",
      "              stroma       0.90      0.81      0.85      4218\n",
      "                   t       0.96      0.93      0.95      1416\n",
      "\n",
      "            accuracy                           0.37     45958\n",
      "           macro avg       0.52      0.37      0.39     45958\n",
      "        weighted avg       0.59      0.37      0.38     45958\n",
      "\n"
     ]
    },
    {
     "name": "stderr",
     "output_type": "stream",
     "text": [
      "/Users/sukritrao/miniforge3/envs/rl_project/lib/python3.10/site-packages/sklearn/metrics/_classification.py:1344: UndefinedMetricWarning: Precision and F-score are ill-defined and being set to 0.0 in labels with no predicted samples. Use `zero_division` parameter to control this behavior.\n",
      "  _warn_prf(average, modifier, msg_start, len(result))\n",
      "/Users/sukritrao/miniforge3/envs/rl_project/lib/python3.10/site-packages/sklearn/metrics/_classification.py:1344: UndefinedMetricWarning: Recall and F-score are ill-defined and being set to 0.0 in labels with no true samples. Use `zero_division` parameter to control this behavior.\n",
      "  _warn_prf(average, modifier, msg_start, len(result))\n"
     ]
    }
   ],
   "source": [
    "classification = classification_report(results_df['label'], results_df['pred'])\n",
    "print(classification)"
   ]
  }
 ],
 "metadata": {
  "kernelspec": {
   "display_name": "stellar",
   "language": "python",
   "name": "python3"
  },
  "language_info": {
   "codemirror_mode": {
    "name": "ipython",
    "version": 3
   },
   "file_extension": ".py",
   "mimetype": "text/x-python",
   "name": "python",
   "nbconvert_exporter": "python",
   "pygments_lexer": "ipython3",
   "version": "3.10.10"
  },
  "orig_nbformat": 4,
  "vscode": {
   "interpreter": {
    "hash": "bca69d69fb1549edd980428a98d79bcd4d614577b37d70a5ea59882922728df6"
   }
  }
 },
 "nbformat": 4,
 "nbformat_minor": 2
}
